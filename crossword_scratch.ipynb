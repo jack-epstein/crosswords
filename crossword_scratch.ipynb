{
 "cells": [
  {
   "cell_type": "code",
   "execution_count": 1,
   "metadata": {},
   "outputs": [],
   "source": [
    "import pandas as pd\n",
    "import numpy as np\n",
    "import matplotlib.pyplot as plt"
   ]
  },
  {
   "cell_type": "code",
   "execution_count": 2,
   "metadata": {},
   "outputs": [],
   "source": [
    "df = pd.read_csv('data/crossword.csv') #read in data\n",
    "recent_week = df.tail(1)['Week'].item() #save recent week as string\n",
    "df['Week'] = pd.to_datetime(df['Week']) #set field as datetime\n",
    "#indicator for solving after Thurs\n",
    "df['late_week'] = ((df.Thursday == 1) | (df.Friday == 1) | (df.Saturday) | (df.Sunday)).astype(int) "
   ]
  },
  {
   "cell_type": "code",
   "execution_count": 3,
   "metadata": {},
   "outputs": [],
   "source": [
    "days = ['Monday','Tuesday','Wednesday','Thursday','Friday','Saturday','Sunday','late_week']\n",
    "\n",
    "df_totals = df[days].describe().T[['count','mean']]\n",
    "df_totals['correct'] = (df_totals['count'] * df_totals['mean']).astype(int)\n",
    "\n",
    "df_totals = df_totals[['correct','mean']]"
   ]
  },
  {
   "cell_type": "code",
   "execution_count": 4,
   "metadata": {},
   "outputs": [
    {
     "data": {
      "text/plain": [
       "'5/2/22'"
      ]
     },
     "execution_count": 4,
     "metadata": {},
     "output_type": "execute_result"
    }
   ],
   "source": [
    "recent_week"
   ]
  },
  {
   "cell_type": "code",
   "execution_count": 5,
   "metadata": {
    "scrolled": true
   },
   "outputs": [
    {
     "data": {
      "text/plain": [
       "0        1\n",
       "1        2\n",
       "2        3\n",
       "3        4\n",
       "4        5\n",
       "      ... \n",
       "167    163\n",
       "168    164\n",
       "169    165\n",
       "170    166\n",
       "171    167\n",
       "Name: Monday, Length: 172, dtype: int64"
      ]
     },
     "execution_count": 5,
     "metadata": {},
     "output_type": "execute_result"
    }
   ],
   "source": [
    "df.Monday.cumsum()"
   ]
  },
  {
   "cell_type": "code",
   "execution_count": 6,
   "metadata": {},
   "outputs": [
    {
     "data": {
      "text/html": [
       "<div>\n",
       "<style scoped>\n",
       "    .dataframe tbody tr th:only-of-type {\n",
       "        vertical-align: middle;\n",
       "    }\n",
       "\n",
       "    .dataframe tbody tr th {\n",
       "        vertical-align: top;\n",
       "    }\n",
       "\n",
       "    .dataframe thead th {\n",
       "        text-align: right;\n",
       "    }\n",
       "</style>\n",
       "<table border=\"1\" class=\"dataframe\">\n",
       "  <thead>\n",
       "    <tr style=\"text-align: right;\">\n",
       "      <th></th>\n",
       "      <th>WeekNum</th>\n",
       "      <th>Week</th>\n",
       "      <th>Monday</th>\n",
       "      <th>Tuesday</th>\n",
       "      <th>Wednesday</th>\n",
       "      <th>Thursday</th>\n",
       "      <th>Friday</th>\n",
       "      <th>Saturday</th>\n",
       "      <th>Sunday</th>\n",
       "      <th>late_week</th>\n",
       "    </tr>\n",
       "  </thead>\n",
       "  <tbody>\n",
       "    <tr>\n",
       "      <th>167</th>\n",
       "      <td>168</td>\n",
       "      <td>2022-04-04</td>\n",
       "      <td>0.970238</td>\n",
       "      <td>0.791667</td>\n",
       "      <td>0.458333</td>\n",
       "      <td>0.160714</td>\n",
       "      <td>0.113095</td>\n",
       "      <td>0.053571</td>\n",
       "      <td>0.113095</td>\n",
       "      <td>0.285714</td>\n",
       "    </tr>\n",
       "    <tr>\n",
       "      <th>168</th>\n",
       "      <td>169</td>\n",
       "      <td>2022-04-11</td>\n",
       "      <td>0.970414</td>\n",
       "      <td>0.792899</td>\n",
       "      <td>0.461538</td>\n",
       "      <td>0.165680</td>\n",
       "      <td>0.118343</td>\n",
       "      <td>0.053254</td>\n",
       "      <td>0.112426</td>\n",
       "      <td>0.289941</td>\n",
       "    </tr>\n",
       "    <tr>\n",
       "      <th>169</th>\n",
       "      <td>170</td>\n",
       "      <td>2022-04-18</td>\n",
       "      <td>0.970588</td>\n",
       "      <td>0.794118</td>\n",
       "      <td>0.464706</td>\n",
       "      <td>0.170588</td>\n",
       "      <td>0.117647</td>\n",
       "      <td>0.052941</td>\n",
       "      <td>0.117647</td>\n",
       "      <td>0.294118</td>\n",
       "    </tr>\n",
       "    <tr>\n",
       "      <th>170</th>\n",
       "      <td>171</td>\n",
       "      <td>2022-04-25</td>\n",
       "      <td>0.970760</td>\n",
       "      <td>0.795322</td>\n",
       "      <td>0.467836</td>\n",
       "      <td>0.175439</td>\n",
       "      <td>0.122807</td>\n",
       "      <td>0.052632</td>\n",
       "      <td>0.116959</td>\n",
       "      <td>0.298246</td>\n",
       "    </tr>\n",
       "    <tr>\n",
       "      <th>171</th>\n",
       "      <td>172</td>\n",
       "      <td>2022-05-02</td>\n",
       "      <td>0.970930</td>\n",
       "      <td>0.796512</td>\n",
       "      <td>0.470930</td>\n",
       "      <td>0.174419</td>\n",
       "      <td>0.122093</td>\n",
       "      <td>0.052326</td>\n",
       "      <td>0.122093</td>\n",
       "      <td>0.302326</td>\n",
       "    </tr>\n",
       "  </tbody>\n",
       "</table>\n",
       "</div>"
      ],
      "text/plain": [
       "     WeekNum       Week    Monday   Tuesday  Wednesday  Thursday    Friday  \\\n",
       "167      168 2022-04-04  0.970238  0.791667   0.458333  0.160714  0.113095   \n",
       "168      169 2022-04-11  0.970414  0.792899   0.461538  0.165680  0.118343   \n",
       "169      170 2022-04-18  0.970588  0.794118   0.464706  0.170588  0.117647   \n",
       "170      171 2022-04-25  0.970760  0.795322   0.467836  0.175439  0.122807   \n",
       "171      172 2022-05-02  0.970930  0.796512   0.470930  0.174419  0.122093   \n",
       "\n",
       "     Saturday    Sunday  late_week  \n",
       "167  0.053571  0.113095   0.285714  \n",
       "168  0.053254  0.112426   0.289941  \n",
       "169  0.052941  0.117647   0.294118  \n",
       "170  0.052632  0.116959   0.298246  \n",
       "171  0.052326  0.122093   0.302326  "
      ]
     },
     "execution_count": 6,
     "metadata": {},
     "output_type": "execute_result"
    }
   ],
   "source": [
    "#want cumulative totals\n",
    "\n",
    "df_cumul = df[['WeekNum','Week']].copy()\n",
    "df_cumul[days] = df.cumsum()[days]\n",
    "\n",
    "df_running_avg = df_cumul[['WeekNum','Week']].copy()\n",
    "for d in days:\n",
    "    df_running_avg[d] = df_cumul[d]/df_cumul['WeekNum']\n",
    "df_running_avg.tail()"
   ]
  },
  {
   "cell_type": "code",
   "execution_count": 7,
   "metadata": {},
   "outputs": [],
   "source": [
    "#get rolling average\n",
    "df_20 = df[days].rolling(20).mean()\n",
    "df_52 = df[days].rolling(52).mean()"
   ]
  },
  {
   "cell_type": "code",
   "execution_count": 8,
   "metadata": {},
   "outputs": [
    {
     "data": {
      "text/html": [
       "<div>\n",
       "<style scoped>\n",
       "    .dataframe tbody tr th:only-of-type {\n",
       "        vertical-align: middle;\n",
       "    }\n",
       "\n",
       "    .dataframe tbody tr th {\n",
       "        vertical-align: top;\n",
       "    }\n",
       "\n",
       "    .dataframe thead th {\n",
       "        text-align: right;\n",
       "    }\n",
       "</style>\n",
       "<table border=\"1\" class=\"dataframe\">\n",
       "  <thead>\n",
       "    <tr style=\"text-align: right;\">\n",
       "      <th></th>\n",
       "      <th>151</th>\n",
       "      <th>171</th>\n",
       "      <th>L20</th>\n",
       "      <th>Comp</th>\n",
       "      <th>percent_diff</th>\n",
       "    </tr>\n",
       "  </thead>\n",
       "  <tbody>\n",
       "    <tr>\n",
       "      <th>Monday</th>\n",
       "      <td>1.00</td>\n",
       "      <td>1.00</td>\n",
       "      <td>1.00</td>\n",
       "      <td>1.00</td>\n",
       "      <td>0.000000</td>\n",
       "    </tr>\n",
       "    <tr>\n",
       "      <th>Tuesday</th>\n",
       "      <td>1.00</td>\n",
       "      <td>0.95</td>\n",
       "      <td>0.95</td>\n",
       "      <td>1.00</td>\n",
       "      <td>-0.050000</td>\n",
       "    </tr>\n",
       "    <tr>\n",
       "      <th>Wednesday</th>\n",
       "      <td>0.75</td>\n",
       "      <td>0.90</td>\n",
       "      <td>0.90</td>\n",
       "      <td>0.75</td>\n",
       "      <td>0.200000</td>\n",
       "    </tr>\n",
       "    <tr>\n",
       "      <th>Thursday</th>\n",
       "      <td>0.45</td>\n",
       "      <td>0.70</td>\n",
       "      <td>0.70</td>\n",
       "      <td>0.45</td>\n",
       "      <td>0.555556</td>\n",
       "    </tr>\n",
       "    <tr>\n",
       "      <th>Friday</th>\n",
       "      <td>0.25</td>\n",
       "      <td>0.45</td>\n",
       "      <td>0.45</td>\n",
       "      <td>0.25</td>\n",
       "      <td>0.800000</td>\n",
       "    </tr>\n",
       "    <tr>\n",
       "      <th>Saturday</th>\n",
       "      <td>0.10</td>\n",
       "      <td>0.25</td>\n",
       "      <td>0.25</td>\n",
       "      <td>0.10</td>\n",
       "      <td>1.500000</td>\n",
       "    </tr>\n",
       "    <tr>\n",
       "      <th>Sunday</th>\n",
       "      <td>0.20</td>\n",
       "      <td>0.40</td>\n",
       "      <td>0.40</td>\n",
       "      <td>0.20</td>\n",
       "      <td>1.000000</td>\n",
       "    </tr>\n",
       "    <tr>\n",
       "      <th>late_week</th>\n",
       "      <td>0.60</td>\n",
       "      <td>0.95</td>\n",
       "      <td>0.95</td>\n",
       "      <td>0.60</td>\n",
       "      <td>0.583333</td>\n",
       "    </tr>\n",
       "  </tbody>\n",
       "</table>\n",
       "</div>"
      ],
      "text/plain": [
       "            151   171   L20  Comp  percent_diff\n",
       "Monday     1.00  1.00  1.00  1.00      0.000000\n",
       "Tuesday    1.00  0.95  0.95  1.00     -0.050000\n",
       "Wednesday  0.75  0.90  0.90  0.75      0.200000\n",
       "Thursday   0.45  0.70  0.70  0.45      0.555556\n",
       "Friday     0.25  0.45  0.45  0.25      0.800000\n",
       "Saturday   0.10  0.25  0.25  0.10      1.500000\n",
       "Sunday     0.20  0.40  0.40  0.20      1.000000\n",
       "late_week  0.60  0.95  0.95  0.60      0.583333"
      ]
     },
     "execution_count": 8,
     "metadata": {},
     "output_type": "execute_result"
    }
   ],
   "source": [
    "df_L20 = df_20.iloc[[df_20.shape[0]-21, df_20.shape[0]-1]].T\n",
    "df_L20['L20'] = df_L20[df_20.shape[0]-1]\n",
    "df_L20['Comp'] = df_L20[df_20.shape[0]-21]\n",
    "df_L20['percent_diff'] = df_L20['L20']/df_L20['Comp'] - 1\n",
    "\n",
    "df_L20"
   ]
  },
  {
   "cell_type": "code",
   "execution_count": 9,
   "metadata": {},
   "outputs": [
    {
     "data": {
      "text/plain": [
       "151             1.0\n",
       "171             1.0\n",
       "L20             1.0\n",
       "Comp            1.0\n",
       "percent_diff    0.0\n",
       "Name: Monday, dtype: float64"
      ]
     },
     "execution_count": 9,
     "metadata": {},
     "output_type": "execute_result"
    }
   ],
   "source": [
    "df_L20.iloc[0]"
   ]
  },
  {
   "cell_type": "code",
   "execution_count": 10,
   "metadata": {},
   "outputs": [
    {
     "data": {
      "text/plain": [
       "[<matplotlib.lines.Line2D at 0x7fa8011e3a90>]"
      ]
     },
     "execution_count": 10,
     "metadata": {},
     "output_type": "execute_result"
    },
    {
     "data": {
      "image/png": "[encoded data removed]",
      "text/plain": [
       "<Figure size 576x432 with 1 Axes>"
      ]
     },
     "metadata": {
      "needs_background": "light"
     },
     "output_type": "display_data"
    }
   ],
   "source": [
    "day = 'Wednesday'\n",
    "\n",
    "fig = plt.figure(figsize=(8,6))\n",
    "plt.plot(df.Week, df_running_avg[day])\n",
    "plt.plot(df.Week, df_20[day])\n",
    "plt.plot(df.Week, df_52[day])"
   ]
  },
  {
   "cell_type": "code",
   "execution_count": 33,
   "metadata": {},
   "outputs": [
    {
     "data": {
      "text/plain": [
       "71"
      ]
     },
     "execution_count": 33,
     "metadata": {},
     "output_type": "execute_result"
    }
   ],
   "source": [
    "#current streak\n",
    "df_temp = pd.DataFrame()\n",
    "df_temp['Current'] = df.Monday\n",
    "df_temp['shifted'] = df.Monday.shift(1)\n",
    "df_temp['StartStreak'] = df_temp['Current'] != df_temp['shifted']\n",
    "df_temp['StreakId'] = df_temp['StartStreak'].cumsum()\n",
    "\n",
    "#if its a 1\n",
    "df_temp[df_temp['StreakId'] == df_temp['StreakId'].max()].shape[0]\n",
    "\n",
    "#if its a 0 then 0"
   ]
  },
  {
   "cell_type": "code",
   "execution_count": 41,
   "metadata": {},
   "outputs": [
    {
     "data": {
      "text/plain": [
       "1"
      ]
     },
     "execution_count": 41,
     "metadata": {},
     "output_type": "execute_result"
    }
   ],
   "source": [
    "df_temp['Current'][df.shape[0]-1]"
   ]
  },
  {
   "cell_type": "code",
   "execution_count": 48,
   "metadata": {},
   "outputs": [
    {
     "data": {
      "text/plain": [
       "{'Monday': 71,\n",
       " 'Tuesday': 8,\n",
       " 'Wednesday': 11,\n",
       " 'Thursday': 0,\n",
       " 'Friday': 0,\n",
       " 'Saturday': 0,\n",
       " 'Sunday': 1,\n",
       " 'late_week': 4}"
      ]
     },
     "execution_count": 48,
     "metadata": {},
     "output_type": "execute_result"
    }
   ],
   "source": [
    "streak_dict = {}\n",
    "for day in df.columns[2:]:\n",
    "    df_temp = pd.DataFrame()\n",
    "    df_temp['Current'] = df[day]\n",
    "    df_temp['shifted'] = df[day].shift(1)\n",
    "    df_temp['StartStreak'] = df_temp['Current'] != df_temp['shifted']\n",
    "    df_temp['StreakId'] = df_temp['StartStreak'].cumsum()\n",
    "    \n",
    "    if df_temp['Current'][df.shape[0]-1] == 1: #if streak is active\n",
    "        streak_dict[day] = df_temp[df_temp['StreakId'] == df_temp['StreakId'].max()].shape[0]\n",
    "\n",
    "    elif df_temp['Current'][df.shape[0]-1] == 0: #if streak is inactive\n",
    "        streak_dict[day] = 0\n",
    "    else:\n",
    "        print('Error')\n",
    "\n",
    "streak_dict"
   ]
  },
  {
   "cell_type": "markdown",
   "metadata": {},
   "source": [
    "#### deleted lines from app\n",
    "st.header('Total Correct Puzzles')\n",
    "cols = st.columns(len(days)) \n",
    "for i in range(len(days)):\n",
    "    with cols[i]:\n",
    "        st.metric(days[i],int(df_totals.iloc[i]['total correct']))\n",
    "        \n",
    "st.header('Total Percetage Finished')\n",
    "cols = st.columns(4) \n",
    "for i in range(4):\n",
    "    with cols[i]:\n",
    "        st.metric(days[i],\"{:.0%}\".format(df_totals.iloc[i]['mean']))\n",
    "cols = st.columns(4) \n",
    "for i in range(4):\n",
    "    with cols[i]:\n",
    "        st.metric(days[i+4],\"{:.0%}\".format(df_totals.iloc[i+4]['mean']))"
   ]
  }
 ],
 "metadata": {
  "kernelspec": {
   "display_name": "Python 3",
   "language": "python",
   "name": "python3"
  },
  "language_info": {
   "codemirror_mode": {
    "name": "ipython",
    "version": 3
   },
   "file_extension": ".py",
   "mimetype": "text/x-python",
   "name": "python",
   "nbconvert_exporter": "python",
   "pygments_lexer": "ipython3",
   "version": "3.8.3"
  }
 },
 "nbformat": 4,
 "nbformat_minor": 4
}
